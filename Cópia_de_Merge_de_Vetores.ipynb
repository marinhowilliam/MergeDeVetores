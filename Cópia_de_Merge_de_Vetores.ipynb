{
  "nbformat": 4,
  "nbformat_minor": 0,
  "metadata": {
    "colab": {
      "provenance": [],
      "authorship_tag": "ABX9TyMyxVQM3+CxKObmeEi4w933",
      "include_colab_link": true
    },
    "kernelspec": {
      "name": "python3",
      "display_name": "Python 3"
    },
    "language_info": {
      "name": "python"
    }
  },
  "cells": [
    {
      "cell_type": "markdown",
      "metadata": {
        "id": "view-in-github",
        "colab_type": "text"
      },
      "source": [
        "<a href=\"https://colab.research.google.com/github/marinhowilliam/MergeDeVetores/blob/main/C%C3%B3pia_de_Merge_de_Vetores.ipynb\" target=\"_parent\"><img src=\"https://colab.research.google.com/assets/colab-badge.svg\" alt=\"Open In Colab\"/></a>"
      ]
    },
    {
      "cell_type": "code",
      "execution_count": 1,
      "metadata": {
        "colab": {
          "base_uri": "https://localhost:8080/"
        },
        "id": "OncaTVeTxApx",
        "outputId": "183b68c6-fcfe-4ed6-9ac6-b91e47727a1f"
      },
      "outputs": [
        {
          "output_type": "stream",
          "name": "stdout",
          "text": [
            "[1, 2, 3, 4, 5, 6, 7, 8, 9, 10]\n"
          ]
        }
      ],
      "source": [
        "juncao = []\n",
        "vetor1 = [1, 3, 5, 7, 9];\n",
        "vetor2 = [2, 4, 6, 8, 10];\n",
        "\n",
        "def merge_vetores(x,y,z):\n",
        "  while(len(vetor1)!= 0 and len(vetor2)!= 0):\n",
        "    juncao.append(min(vetor1));\n",
        "    vetor1.remove(min(vetor1));\n",
        "    juncao.append(min(vetor2));\n",
        "    vetor2.remove(min(vetor2));\n",
        "  return juncao\n",
        "\n",
        "print(merge_vetores(vetor1,vetor2,juncao))"
      ]
    }
  ]
}