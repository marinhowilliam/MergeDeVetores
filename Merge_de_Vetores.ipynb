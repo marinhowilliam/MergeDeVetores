{
  "nbformat": 4,
  "nbformat_minor": 0,
  "metadata": {
    "colab": {
      "provenance": [],
      "authorship_tag": "ABX9TyNr7oh11c9iuNmYKLLXz+74",
      "include_colab_link": true
    },
    "kernelspec": {
      "name": "python3",
      "display_name": "Python 3"
    },
    "language_info": {
      "name": "python"
    }
  },
  "cells": [
    {
      "cell_type": "markdown",
      "metadata": {
        "id": "view-in-github",
        "colab_type": "text"
      },
      "source": [
        "<a href=\"https://colab.research.google.com/github/marinhowilliam/MergeDeVetores/blob/main/Merge_de_Vetores.ipynb\" target=\"_parent\"><img src=\"https://colab.research.google.com/assets/colab-badge.svg\" alt=\"Open In Colab\"/></a>"
      ]
    },
    {
      "cell_type": "code",
      "execution_count": 6,
      "metadata": {
        "colab": {
          "base_uri": "https://localhost:8080/"
        },
        "id": "OncaTVeTxApx",
        "outputId": "95105099-15ea-4b93-9e08-7e28ae4a0754"
      },
      "outputs": [
        {
          "output_type": "stream",
          "name": "stdout",
          "text": [
            "[1, 2, 3, 4, 5, 6, 7, 8, 9, 10]\n"
          ]
        }
      ],
      "source": [
        "vetor1 = [1, 3, 5, 7, 9];\n",
        "vetor2 = [2, 4, 6, 8, 10];\n",
        "juncao = []\n",
        "\n",
        "def merge_vetores(vetor1,vetor2,juncao):\n",
        "  while(len(vetor1)!= 0 and len(vetor2)!= 0):\n",
        "    juncao.append(min(vetor1));\n",
        "    juncao.append(min(vetor2));\n",
        "    vetor1.remove(min(vetor1));\n",
        "    vetor2.remove(min(vetor2));\n",
        "  return juncao\n",
        "\n",
        "print(merge_vetores(vetor1,vetor2,juncao))"
      ]
    }
  ]
}